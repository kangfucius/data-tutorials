{
 "cells": [
  {
   "cell_type": "code",
   "execution_count": 1,
   "metadata": {},
   "outputs": [],
   "source": [
    "import pandas as pd"
   ]
  },
  {
   "cell_type": "markdown",
   "metadata": {},
   "source": [
    "# 8.1 Parsing Unix timestamps"
   ]
  },
  {
   "cell_type": "markdown",
   "metadata": {},
   "source": [
    "It's not obvious how to deal with Unix timestamps in pandas -- it took me quite a while to figure this out. The file we're using here is a popularity-contest file I found on my system at `/var/log/popularity-contest`.\n",
    "\n",
    "Here's an [explanation of how this file works](http://popcon.ubuntu.com/README).\n",
    "\n",
    "_NB: for first-time use or to reconfigure, use_ `sudo dpkg-reconfigure popularity-contest`\n"
   ]
  },
  {
   "cell_type": "markdown",
   "metadata": {},
   "source": [
    "### Poking around with this data set \n",
    "If not working with Linux with popularity-contest then use the stock file in `../data/popularity-contest` and uncomment the below "
   ]
  },
  {
   "cell_type": "code",
   "execution_count": null,
   "metadata": {},
   "outputs": [],
   "source": [
    "# popcon = pd.read_csv('../data/popularity-contest', sep=' ', )\n",
    "# popcon"
   ]
  },
  {
   "cell_type": "markdown",
   "metadata": {},
   "source": [
    "Using part of the answer of [Keith](https://stackoverflow.com/questions/48946492/capturing-terminal-output-into-pandas-dataframe-without-creating-external-text-f/48947510#48947510) and the one found [here](https://stackoverflow.com/questions/22604564/how-to-create-a-pandas-dataframe-from-a-string), to pass information from string to pandas dataframe."
   ]
  },
  {
   "cell_type": "code",
   "execution_count": 60,
   "metadata": {},
   "outputs": [
    {
     "data": {
      "text/html": [
       "<div>\n",
       "<style scoped>\n",
       "    .dataframe tbody tr th:only-of-type {\n",
       "        vertical-align: middle;\n",
       "    }\n",
       "\n",
       "    .dataframe tbody tr th {\n",
       "        vertical-align: top;\n",
       "    }\n",
       "\n",
       "    .dataframe thead th {\n",
       "        text-align: right;\n",
       "    }\n",
       "</style>\n",
       "<table border=\"1\" class=\"dataframe\">\n",
       "  <thead>\n",
       "    <tr style=\"text-align: right;\">\n",
       "      <th></th>\n",
       "      <th>POPULARITY-CONTEST-0</th>\n",
       "      <th>TIME:1611549535</th>\n",
       "      <th>ID:0819bd4d3a804c7e9f6b6f9e463bcd46</th>\n",
       "      <th>ARCH:amd64</th>\n",
       "      <th>POPCONVER:1.69ubuntu1</th>\n",
       "      <th>VENDOR:Ubuntu</th>\n",
       "    </tr>\n",
       "  </thead>\n",
       "  <tbody>\n",
       "    <tr>\n",
       "      <th>0</th>\n",
       "      <td>1611532800</td>\n",
       "      <td>1610884800</td>\n",
       "      <td>libssl1.1</td>\n",
       "      <td>/usr/lib/x86_64-linux-gnu/libcrypto.so.1.1</td>\n",
       "      <td>NaN</td>\n",
       "      <td>NaN</td>\n",
       "    </tr>\n",
       "    <tr>\n",
       "      <th>1</th>\n",
       "      <td>1611532800</td>\n",
       "      <td>1610884800</td>\n",
       "      <td>perl-base</td>\n",
       "      <td>/usr/bin/perl</td>\n",
       "      <td>NaN</td>\n",
       "      <td>NaN</td>\n",
       "    </tr>\n",
       "    <tr>\n",
       "      <th>2</th>\n",
       "      <td>1611532800</td>\n",
       "      <td>1610884800</td>\n",
       "      <td>openssh-client</td>\n",
       "      <td>/usr/bin/ssh-agent</td>\n",
       "      <td>NaN</td>\n",
       "      <td>NaN</td>\n",
       "    </tr>\n",
       "    <tr>\n",
       "      <th>3</th>\n",
       "      <td>1611532800</td>\n",
       "      <td>1610884800</td>\n",
       "      <td>libc-bin</td>\n",
       "      <td>/usr/lib/locale/C.UTF-8/LC_TIME</td>\n",
       "      <td>NaN</td>\n",
       "      <td>NaN</td>\n",
       "    </tr>\n",
       "    <tr>\n",
       "      <th>4</th>\n",
       "      <td>1611532800</td>\n",
       "      <td>1610884800</td>\n",
       "      <td>libc6</td>\n",
       "      <td>/usr/lib/x86_64-linux-gnu/gconv/gconv-modules....</td>\n",
       "      <td>NaN</td>\n",
       "      <td>NaN</td>\n",
       "    </tr>\n",
       "    <tr>\n",
       "      <th>...</th>\n",
       "      <td>...</td>\n",
       "      <td>...</td>\n",
       "      <td>...</td>\n",
       "      <td>...</td>\n",
       "      <td>...</td>\n",
       "      <td>...</td>\n",
       "    </tr>\n",
       "    <tr>\n",
       "      <th>718</th>\n",
       "      <td>0</td>\n",
       "      <td>0</td>\n",
       "      <td>libgusb2</td>\n",
       "      <td>&lt;NOFILES&gt;</td>\n",
       "      <td>NaN</td>\n",
       "      <td>NaN</td>\n",
       "    </tr>\n",
       "    <tr>\n",
       "      <th>719</th>\n",
       "      <td>0</td>\n",
       "      <td>0</td>\n",
       "      <td>libpopt0</td>\n",
       "      <td>&lt;NOFILES&gt;</td>\n",
       "      <td>NaN</td>\n",
       "      <td>NaN</td>\n",
       "    </tr>\n",
       "    <tr>\n",
       "      <th>720</th>\n",
       "      <td>0</td>\n",
       "      <td>0</td>\n",
       "      <td>libcryptsetup12</td>\n",
       "      <td>&lt;NOFILES&gt;</td>\n",
       "      <td>NaN</td>\n",
       "      <td>NaN</td>\n",
       "    </tr>\n",
       "    <tr>\n",
       "      <th>721</th>\n",
       "      <td>0</td>\n",
       "      <td>0</td>\n",
       "      <td>xkb-data</td>\n",
       "      <td>&lt;NOFILES&gt;</td>\n",
       "      <td>NaN</td>\n",
       "      <td>NaN</td>\n",
       "    </tr>\n",
       "    <tr>\n",
       "      <th>722</th>\n",
       "      <td>END-POPULARITY-CONTEST-0</td>\n",
       "      <td>TIME:1611549535</td>\n",
       "      <td>NaN</td>\n",
       "      <td>NaN</td>\n",
       "      <td>NaN</td>\n",
       "      <td>NaN</td>\n",
       "    </tr>\n",
       "  </tbody>\n",
       "</table>\n",
       "<p>723 rows × 6 columns</p>\n",
       "</div>"
      ],
      "text/plain": [
       "         POPULARITY-CONTEST-0  TIME:1611549535  \\\n",
       "0                  1611532800       1610884800   \n",
       "1                  1611532800       1610884800   \n",
       "2                  1611532800       1610884800   \n",
       "3                  1611532800       1610884800   \n",
       "4                  1611532800       1610884800   \n",
       "..                        ...              ...   \n",
       "718                         0                0   \n",
       "719                         0                0   \n",
       "720                         0                0   \n",
       "721                         0                0   \n",
       "722  END-POPULARITY-CONTEST-0  TIME:1611549535   \n",
       "\n",
       "    ID:0819bd4d3a804c7e9f6b6f9e463bcd46  \\\n",
       "0                             libssl1.1   \n",
       "1                             perl-base   \n",
       "2                        openssh-client   \n",
       "3                              libc-bin   \n",
       "4                                 libc6   \n",
       "..                                  ...   \n",
       "718                            libgusb2   \n",
       "719                            libpopt0   \n",
       "720                     libcryptsetup12   \n",
       "721                            xkb-data   \n",
       "722                                 NaN   \n",
       "\n",
       "                                            ARCH:amd64 POPCONVER:1.69ubuntu1  \\\n",
       "0           /usr/lib/x86_64-linux-gnu/libcrypto.so.1.1                   NaN   \n",
       "1                                        /usr/bin/perl                   NaN   \n",
       "2                                   /usr/bin/ssh-agent                   NaN   \n",
       "3                      /usr/lib/locale/C.UTF-8/LC_TIME                   NaN   \n",
       "4    /usr/lib/x86_64-linux-gnu/gconv/gconv-modules....                   NaN   \n",
       "..                                                 ...                   ...   \n",
       "718                                          <NOFILES>                   NaN   \n",
       "719                                          <NOFILES>                   NaN   \n",
       "720                                          <NOFILES>                   NaN   \n",
       "721                                          <NOFILES>                   NaN   \n",
       "722                                                NaN                   NaN   \n",
       "\n",
       "     VENDOR:Ubuntu  \n",
       "0              NaN  \n",
       "1              NaN  \n",
       "2              NaN  \n",
       "3              NaN  \n",
       "4              NaN  \n",
       "..             ...  \n",
       "718            NaN  \n",
       "719            NaN  \n",
       "720            NaN  \n",
       "721            NaN  \n",
       "722            NaN  \n",
       "\n",
       "[723 rows x 6 columns]"
      ]
     },
     "execution_count": 60,
     "metadata": {},
     "output_type": "execute_result"
    }
   ],
   "source": [
    "import sys\n",
    "import subprocess\n",
    "from io import StringIO\n",
    "\n",
    "cmd = ['popularity-contest']\n",
    "a = subprocess.Popen(cmd, stdout=subprocess.PIPE)\n",
    "b = StringIO(a.communicate()[0].decode('utf-8'))\n",
    "popcon = pd.read_csv(b, sep=' ')\n",
    "popcon"
   ]
  },
  {
   "cell_type": "markdown",
   "metadata": {},
   "source": [
    "The last column (VENDOR:Ubuntu) is always NaN and not useful here, so remove it with `popcon.drop('VENDOR:Ubuntu', axis=1, inplace=True)` (or with `del popcon['VENDOR:Ubuntu']`).\n",
    "\n",
    "The data set has both a header (which read_csv used) and a trailer which marks the end of the dataset. We can remove this with the slicer [:-1]. Check its shape and tail"
   ]
  },
  {
   "cell_type": "code",
   "execution_count": 61,
   "metadata": {},
   "outputs": [
    {
     "data": {
      "text/plain": [
       "(722, 5)"
      ]
     },
     "execution_count": 61,
     "metadata": {},
     "output_type": "execute_result"
    }
   ],
   "source": [
    "# popcon.drop('VENDOR:Ubuntu', axis=1, inplace=True)\n",
    "popcon.drop(columns=['VENDOR:Ubuntu'], inplace=True)\n",
    "popcon = popcon[:-1]\n",
    "popcon.shape"
   ]
  },
  {
   "cell_type": "code",
   "execution_count": 62,
   "metadata": {},
   "outputs": [
    {
     "data": {
      "text/html": [
       "<div>\n",
       "<style scoped>\n",
       "    .dataframe tbody tr th:only-of-type {\n",
       "        vertical-align: middle;\n",
       "    }\n",
       "\n",
       "    .dataframe tbody tr th {\n",
       "        vertical-align: top;\n",
       "    }\n",
       "\n",
       "    .dataframe thead th {\n",
       "        text-align: right;\n",
       "    }\n",
       "</style>\n",
       "<table border=\"1\" class=\"dataframe\">\n",
       "  <thead>\n",
       "    <tr style=\"text-align: right;\">\n",
       "      <th></th>\n",
       "      <th>POPULARITY-CONTEST-0</th>\n",
       "      <th>TIME:1611549535</th>\n",
       "      <th>ID:0819bd4d3a804c7e9f6b6f9e463bcd46</th>\n",
       "      <th>ARCH:amd64</th>\n",
       "      <th>POPCONVER:1.69ubuntu1</th>\n",
       "    </tr>\n",
       "  </thead>\n",
       "  <tbody>\n",
       "    <tr>\n",
       "      <th>717</th>\n",
       "      <td>0</td>\n",
       "      <td>0</td>\n",
       "      <td>libvisual-0.4-0</td>\n",
       "      <td>&lt;NOFILES&gt;</td>\n",
       "      <td>NaN</td>\n",
       "    </tr>\n",
       "    <tr>\n",
       "      <th>718</th>\n",
       "      <td>0</td>\n",
       "      <td>0</td>\n",
       "      <td>libgusb2</td>\n",
       "      <td>&lt;NOFILES&gt;</td>\n",
       "      <td>NaN</td>\n",
       "    </tr>\n",
       "    <tr>\n",
       "      <th>719</th>\n",
       "      <td>0</td>\n",
       "      <td>0</td>\n",
       "      <td>libpopt0</td>\n",
       "      <td>&lt;NOFILES&gt;</td>\n",
       "      <td>NaN</td>\n",
       "    </tr>\n",
       "    <tr>\n",
       "      <th>720</th>\n",
       "      <td>0</td>\n",
       "      <td>0</td>\n",
       "      <td>libcryptsetup12</td>\n",
       "      <td>&lt;NOFILES&gt;</td>\n",
       "      <td>NaN</td>\n",
       "    </tr>\n",
       "    <tr>\n",
       "      <th>721</th>\n",
       "      <td>0</td>\n",
       "      <td>0</td>\n",
       "      <td>xkb-data</td>\n",
       "      <td>&lt;NOFILES&gt;</td>\n",
       "      <td>NaN</td>\n",
       "    </tr>\n",
       "  </tbody>\n",
       "</table>\n",
       "</div>"
      ],
      "text/plain": [
       "    POPULARITY-CONTEST-0 TIME:1611549535 ID:0819bd4d3a804c7e9f6b6f9e463bcd46  \\\n",
       "717                    0               0                     libvisual-0.4-0   \n",
       "718                    0               0                            libgusb2   \n",
       "719                    0               0                            libpopt0   \n",
       "720                    0               0                     libcryptsetup12   \n",
       "721                    0               0                            xkb-data   \n",
       "\n",
       "    ARCH:amd64 POPCONVER:1.69ubuntu1  \n",
       "717  <NOFILES>                   NaN  \n",
       "718  <NOFILES>                   NaN  \n",
       "719  <NOFILES>                   NaN  \n",
       "720  <NOFILES>                   NaN  \n",
       "721  <NOFILES>                   NaN  "
      ]
     },
     "execution_count": 62,
     "metadata": {},
     "output_type": "execute_result"
    }
   ],
   "source": [
    "# Trimmed tail\n",
    "popcon.tail()"
   ]
  },
  {
   "cell_type": "markdown",
   "metadata": {},
   "source": [
    "### Put it together\n",
    "Read it, remove the last row, and rename the columns"
   ]
  },
  {
   "cell_type": "code",
   "execution_count": 63,
   "metadata": {},
   "outputs": [
    {
     "data": {
      "text/plain": [
       "(722, 5)"
      ]
     },
     "execution_count": 63,
     "metadata": {},
     "output_type": "execute_result"
    }
   ],
   "source": [
    "# Read it, and remove the last row\n",
    "#popcon = pd.read_csv('../data/popularity-contest', sep=' ', )[:-1]\n",
    "\n",
    "import sys\n",
    "import subprocess\n",
    "from io import StringIO\n",
    "\n",
    "cmd = ['popularity-contest']\n",
    "a = subprocess.Popen(cmd, stdout=subprocess.PIPE)\n",
    "b = StringIO(a.communicate()[0].decode('utf-8'))\n",
    "popcon = pd.read_csv(b, sep=' ')\n",
    "popcon = popcon[:-1]\n",
    "del popcon['VENDOR:Ubuntu']\n",
    "\n",
    "# rename the columns\n",
    "popcon.columns = ['atime', 'ctime', 'package-name', 'mru-program', 'tag']\n",
    "popcon.shape"
   ]
  },
  {
   "cell_type": "markdown",
   "metadata": {},
   "source": [
    "The colums are the access time, created time, package name, recently used program, and a tag"
   ]
  },
  {
   "cell_type": "code",
   "execution_count": 65,
   "metadata": {},
   "outputs": [
    {
     "data": {
      "text/html": [
       "<div>\n",
       "<style scoped>\n",
       "    .dataframe tbody tr th:only-of-type {\n",
       "        vertical-align: middle;\n",
       "    }\n",
       "\n",
       "    .dataframe tbody tr th {\n",
       "        vertical-align: top;\n",
       "    }\n",
       "\n",
       "    .dataframe thead th {\n",
       "        text-align: right;\n",
       "    }\n",
       "</style>\n",
       "<table border=\"1\" class=\"dataframe\">\n",
       "  <thead>\n",
       "    <tr style=\"text-align: right;\">\n",
       "      <th></th>\n",
       "      <th>atime</th>\n",
       "      <th>ctime</th>\n",
       "      <th>package-name</th>\n",
       "      <th>mru-program</th>\n",
       "      <th>tag</th>\n",
       "    </tr>\n",
       "  </thead>\n",
       "  <tbody>\n",
       "    <tr>\n",
       "      <th>0</th>\n",
       "      <td>1611532800</td>\n",
       "      <td>1610884800</td>\n",
       "      <td>perl-base</td>\n",
       "      <td>/usr/bin/perl</td>\n",
       "      <td>NaN</td>\n",
       "    </tr>\n",
       "    <tr>\n",
       "      <th>1</th>\n",
       "      <td>1611532800</td>\n",
       "      <td>1610884800</td>\n",
       "      <td>libc-bin</td>\n",
       "      <td>/usr/lib/locale/C.UTF-8/LC_TIME</td>\n",
       "      <td>NaN</td>\n",
       "    </tr>\n",
       "    <tr>\n",
       "      <th>2</th>\n",
       "      <td>1611532800</td>\n",
       "      <td>1610884800</td>\n",
       "      <td>libssl1.1</td>\n",
       "      <td>/usr/lib/x86_64-linux-gnu/libcrypto.so.1.1</td>\n",
       "      <td>NaN</td>\n",
       "    </tr>\n",
       "    <tr>\n",
       "      <th>3</th>\n",
       "      <td>1611532800</td>\n",
       "      <td>1610884800</td>\n",
       "      <td>libc6</td>\n",
       "      <td>/usr/lib/x86_64-linux-gnu/gconv/gconv-modules....</td>\n",
       "      <td>NaN</td>\n",
       "    </tr>\n",
       "    <tr>\n",
       "      <th>4</th>\n",
       "      <td>1611532800</td>\n",
       "      <td>1610884800</td>\n",
       "      <td>openssh-client</td>\n",
       "      <td>/usr/bin/ssh-agent</td>\n",
       "      <td>NaN</td>\n",
       "    </tr>\n",
       "  </tbody>\n",
       "</table>\n",
       "</div>"
      ],
      "text/plain": [
       "        atime       ctime    package-name  \\\n",
       "0  1611532800  1610884800       perl-base   \n",
       "1  1611532800  1610884800        libc-bin   \n",
       "2  1611532800  1610884800       libssl1.1   \n",
       "3  1611532800  1610884800           libc6   \n",
       "4  1611532800  1610884800  openssh-client   \n",
       "\n",
       "                                         mru-program  tag  \n",
       "0                                      /usr/bin/perl  NaN  \n",
       "1                    /usr/lib/locale/C.UTF-8/LC_TIME  NaN  \n",
       "2         /usr/lib/x86_64-linux-gnu/libcrypto.so.1.1  NaN  \n",
       "3  /usr/lib/x86_64-linux-gnu/gconv/gconv-modules....  NaN  \n",
       "4                                 /usr/bin/ssh-agent  NaN  "
      ]
     },
     "execution_count": 65,
     "metadata": {},
     "output_type": "execute_result"
    }
   ],
   "source": [
    "popcon[:5]"
   ]
  },
  {
   "cell_type": "markdown",
   "metadata": {},
   "source": [
    "The magical part about parsing timestamps in pandas is that numpy datetimes are already stored as Unix timestamps. So all we need to do is tell pandas that these integers are actually datetimes -- it doesn't need to do any conversion at all.\n",
    "\n",
    "We need to convert these to ints to start:"
   ]
  },
  {
   "cell_type": "code",
   "execution_count": 66,
   "metadata": {},
   "outputs": [],
   "source": [
    "popcon['atime'] = popcon['atime'].astype(int)\n",
    "popcon['ctime'] = popcon['ctime'].astype(int)"
   ]
  },
  {
   "cell_type": "markdown",
   "metadata": {},
   "source": [
    "Every numpy array and pandas series has a dtype -- this is usually `int64`, `float64`, or `object`. Some of the time types available are `datetime64[s]`, `datetime64[ms]`, and `datetime64[us]`. There are also `timedelta` types, similarly.\n",
    "\n",
    "We can use the `pd.to_datetime` function to convert our integer timestamps into datetimes. This is a constant-time operation -- we're not actually changing any of the data, just how pandas thinks about it."
   ]
  },
  {
   "cell_type": "code",
   "execution_count": 67,
   "metadata": {},
   "outputs": [],
   "source": [
    "popcon['atime'] = pd.to_datetime(popcon['atime'], unit='s')\n",
    "popcon['ctime'] = pd.to_datetime(popcon['ctime'], unit='s')"
   ]
  },
  {
   "cell_type": "markdown",
   "metadata": {},
   "source": [
    "If we look at the dtype now, it's `<M8[ns]`. As far as I can tell `M8` is secret code for `datetime64`."
   ]
  },
  {
   "cell_type": "code",
   "execution_count": 68,
   "metadata": {},
   "outputs": [
    {
     "data": {
      "text/plain": [
       "atime    datetime64[ns]\n",
       "ctime    datetime64[ns]\n",
       "dtype: object"
      ]
     },
     "execution_count": 68,
     "metadata": {},
     "output_type": "execute_result"
    }
   ],
   "source": [
    "# popcon['atime'].dtype\n",
    "popcon[['atime', 'ctime']].dtypes"
   ]
  },
  {
   "cell_type": "markdown",
   "metadata": {},
   "source": [
    "So now we can look at our `atime` and `ctime` as dates!"
   ]
  },
  {
   "cell_type": "code",
   "execution_count": 69,
   "metadata": {},
   "outputs": [
    {
     "data": {
      "text/html": [
       "<div>\n",
       "<style scoped>\n",
       "    .dataframe tbody tr th:only-of-type {\n",
       "        vertical-align: middle;\n",
       "    }\n",
       "\n",
       "    .dataframe tbody tr th {\n",
       "        vertical-align: top;\n",
       "    }\n",
       "\n",
       "    .dataframe thead th {\n",
       "        text-align: right;\n",
       "    }\n",
       "</style>\n",
       "<table border=\"1\" class=\"dataframe\">\n",
       "  <thead>\n",
       "    <tr style=\"text-align: right;\">\n",
       "      <th></th>\n",
       "      <th>atime</th>\n",
       "      <th>ctime</th>\n",
       "      <th>package-name</th>\n",
       "      <th>mru-program</th>\n",
       "      <th>tag</th>\n",
       "    </tr>\n",
       "  </thead>\n",
       "  <tbody>\n",
       "    <tr>\n",
       "      <th>0</th>\n",
       "      <td>2021-01-25</td>\n",
       "      <td>2021-01-17 12:00:00</td>\n",
       "      <td>perl-base</td>\n",
       "      <td>/usr/bin/perl</td>\n",
       "      <td>NaN</td>\n",
       "    </tr>\n",
       "    <tr>\n",
       "      <th>1</th>\n",
       "      <td>2021-01-25</td>\n",
       "      <td>2021-01-17 12:00:00</td>\n",
       "      <td>libc-bin</td>\n",
       "      <td>/usr/lib/locale/C.UTF-8/LC_TIME</td>\n",
       "      <td>NaN</td>\n",
       "    </tr>\n",
       "    <tr>\n",
       "      <th>2</th>\n",
       "      <td>2021-01-25</td>\n",
       "      <td>2021-01-17 12:00:00</td>\n",
       "      <td>libssl1.1</td>\n",
       "      <td>/usr/lib/x86_64-linux-gnu/libcrypto.so.1.1</td>\n",
       "      <td>NaN</td>\n",
       "    </tr>\n",
       "    <tr>\n",
       "      <th>3</th>\n",
       "      <td>2021-01-25</td>\n",
       "      <td>2021-01-17 12:00:00</td>\n",
       "      <td>libc6</td>\n",
       "      <td>/usr/lib/x86_64-linux-gnu/gconv/gconv-modules....</td>\n",
       "      <td>NaN</td>\n",
       "    </tr>\n",
       "    <tr>\n",
       "      <th>4</th>\n",
       "      <td>2021-01-25</td>\n",
       "      <td>2021-01-17 12:00:00</td>\n",
       "      <td>openssh-client</td>\n",
       "      <td>/usr/bin/ssh-agent</td>\n",
       "      <td>NaN</td>\n",
       "    </tr>\n",
       "  </tbody>\n",
       "</table>\n",
       "</div>"
      ],
      "text/plain": [
       "       atime               ctime    package-name  \\\n",
       "0 2021-01-25 2021-01-17 12:00:00       perl-base   \n",
       "1 2021-01-25 2021-01-17 12:00:00        libc-bin   \n",
       "2 2021-01-25 2021-01-17 12:00:00       libssl1.1   \n",
       "3 2021-01-25 2021-01-17 12:00:00           libc6   \n",
       "4 2021-01-25 2021-01-17 12:00:00  openssh-client   \n",
       "\n",
       "                                         mru-program  tag  \n",
       "0                                      /usr/bin/perl  NaN  \n",
       "1                    /usr/lib/locale/C.UTF-8/LC_TIME  NaN  \n",
       "2         /usr/lib/x86_64-linux-gnu/libcrypto.so.1.1  NaN  \n",
       "3  /usr/lib/x86_64-linux-gnu/gconv/gconv-modules....  NaN  \n",
       "4                                 /usr/bin/ssh-agent  NaN  "
      ]
     },
     "execution_count": 69,
     "metadata": {},
     "output_type": "execute_result"
    }
   ],
   "source": [
    "popcon[:5]"
   ]
  },
  {
   "cell_type": "markdown",
   "metadata": {},
   "source": [
    "Now suppose we want to look at all packages that aren't libraries.\n",
    "\n",
    "First, I want to get rid of everything with timestamp 0. Notice how we can just use a string in this comparison, even though it's actually a timestamp on the inside? That is because pandas is amazing."
   ]
  },
  {
   "cell_type": "code",
   "execution_count": 70,
   "metadata": {},
   "outputs": [],
   "source": [
    "popcon = popcon[popcon['atime'] > '1970-01-01']"
   ]
  },
  {
   "cell_type": "markdown",
   "metadata": {},
   "source": [
    "Now we can use pandas' magical string abilities to just look at rows where the package name doesn't contain 'lib'."
   ]
  },
  {
   "cell_type": "code",
   "execution_count": 71,
   "metadata": {},
   "outputs": [],
   "source": [
    "nonlibraries = popcon[~popcon['package-name'].str.contains('lib')]"
   ]
  },
  {
   "cell_type": "code",
   "execution_count": 72,
   "metadata": {},
   "outputs": [
    {
     "data": {
      "text/html": [
       "<div>\n",
       "<style scoped>\n",
       "    .dataframe tbody tr th:only-of-type {\n",
       "        vertical-align: middle;\n",
       "    }\n",
       "\n",
       "    .dataframe tbody tr th {\n",
       "        vertical-align: top;\n",
       "    }\n",
       "\n",
       "    .dataframe thead th {\n",
       "        text-align: right;\n",
       "    }\n",
       "</style>\n",
       "<table border=\"1\" class=\"dataframe\">\n",
       "  <thead>\n",
       "    <tr style=\"text-align: right;\">\n",
       "      <th></th>\n",
       "      <th>atime</th>\n",
       "      <th>ctime</th>\n",
       "      <th>package-name</th>\n",
       "      <th>mru-program</th>\n",
       "      <th>tag</th>\n",
       "    </tr>\n",
       "  </thead>\n",
       "  <tbody>\n",
       "    <tr>\n",
       "      <th>15</th>\n",
       "      <td>2021-01-23</td>\n",
       "      <td>2021-01-23</td>\n",
       "      <td>update-manager-core</td>\n",
       "      <td>/usr/bin/ubuntu-security-status</td>\n",
       "      <td>&lt;RECENT-CTIME&gt;</td>\n",
       "    </tr>\n",
       "    <tr>\n",
       "      <th>9</th>\n",
       "      <td>2021-01-23</td>\n",
       "      <td>2021-01-23</td>\n",
       "      <td>ubuntu-drivers-common</td>\n",
       "      <td>/usr/lib/ubiquity/target-config/31ubuntu_drive...</td>\n",
       "      <td>&lt;RECENT-CTIME&gt;</td>\n",
       "    </tr>\n",
       "    <tr>\n",
       "      <th>14</th>\n",
       "      <td>2021-01-23</td>\n",
       "      <td>2021-01-23</td>\n",
       "      <td>ubuntu-release-upgrader-core</td>\n",
       "      <td>/usr/bin/do-release-upgrade</td>\n",
       "      <td>&lt;RECENT-CTIME&gt;</td>\n",
       "    </tr>\n",
       "    <tr>\n",
       "      <th>13</th>\n",
       "      <td>2021-01-23</td>\n",
       "      <td>2021-01-23</td>\n",
       "      <td>update-notifier-common</td>\n",
       "      <td>/usr/lib/update-notifier/apt-check</td>\n",
       "      <td>&lt;RECENT-CTIME&gt;</td>\n",
       "    </tr>\n",
       "    <tr>\n",
       "      <th>12</th>\n",
       "      <td>2021-01-23</td>\n",
       "      <td>2021-01-23</td>\n",
       "      <td>alsa-utils</td>\n",
       "      <td>/usr/bin/arecord</td>\n",
       "      <td>&lt;RECENT-CTIME&gt;</td>\n",
       "    </tr>\n",
       "    <tr>\n",
       "      <th>10</th>\n",
       "      <td>2021-01-23</td>\n",
       "      <td>2021-01-23</td>\n",
       "      <td>apt</td>\n",
       "      <td>/usr/lib/apt/planners/dump</td>\n",
       "      <td>&lt;RECENT-CTIME&gt;</td>\n",
       "    </tr>\n",
       "    <tr>\n",
       "      <th>11</th>\n",
       "      <td>2021-01-23</td>\n",
       "      <td>2021-01-23</td>\n",
       "      <td>python3-xkit</td>\n",
       "      <td>/usr/lib/python3/dist-packages/xkit-0.0.0.egg-...</td>\n",
       "      <td>&lt;RECENT-CTIME&gt;</td>\n",
       "    </tr>\n",
       "    <tr>\n",
       "      <th>8</th>\n",
       "      <td>2021-01-23</td>\n",
       "      <td>2021-01-23</td>\n",
       "      <td>apt-utils</td>\n",
       "      <td>/usr/lib/apt/solvers/apt</td>\n",
       "      <td>&lt;RECENT-CTIME&gt;</td>\n",
       "    </tr>\n",
       "    <tr>\n",
       "      <th>7</th>\n",
       "      <td>2021-01-23</td>\n",
       "      <td>2021-01-23</td>\n",
       "      <td>cloud-init</td>\n",
       "      <td>/usr/lib/python3/dist-packages/cloudinit/warni...</td>\n",
       "      <td>&lt;RECENT-CTIME&gt;</td>\n",
       "    </tr>\n",
       "    <tr>\n",
       "      <th>6</th>\n",
       "      <td>2021-01-23</td>\n",
       "      <td>2021-01-23</td>\n",
       "      <td>python3-distupgrade</td>\n",
       "      <td>/usr/lib/python3/dist-packages/DistUpgrade/xor...</td>\n",
       "      <td>&lt;RECENT-CTIME&gt;</td>\n",
       "    </tr>\n",
       "  </tbody>\n",
       "</table>\n",
       "</div>"
      ],
      "text/plain": [
       "        atime      ctime                  package-name  \\\n",
       "15 2021-01-23 2021-01-23           update-manager-core   \n",
       "9  2021-01-23 2021-01-23         ubuntu-drivers-common   \n",
       "14 2021-01-23 2021-01-23  ubuntu-release-upgrader-core   \n",
       "13 2021-01-23 2021-01-23        update-notifier-common   \n",
       "12 2021-01-23 2021-01-23                    alsa-utils   \n",
       "10 2021-01-23 2021-01-23                           apt   \n",
       "11 2021-01-23 2021-01-23                  python3-xkit   \n",
       "8  2021-01-23 2021-01-23                     apt-utils   \n",
       "7  2021-01-23 2021-01-23                    cloud-init   \n",
       "6  2021-01-23 2021-01-23           python3-distupgrade   \n",
       "\n",
       "                                          mru-program             tag  \n",
       "15                    /usr/bin/ubuntu-security-status  <RECENT-CTIME>  \n",
       "9   /usr/lib/ubiquity/target-config/31ubuntu_drive...  <RECENT-CTIME>  \n",
       "14                        /usr/bin/do-release-upgrade  <RECENT-CTIME>  \n",
       "13                 /usr/lib/update-notifier/apt-check  <RECENT-CTIME>  \n",
       "12                                   /usr/bin/arecord  <RECENT-CTIME>  \n",
       "10                         /usr/lib/apt/planners/dump  <RECENT-CTIME>  \n",
       "11  /usr/lib/python3/dist-packages/xkit-0.0.0.egg-...  <RECENT-CTIME>  \n",
       "8                            /usr/lib/apt/solvers/apt  <RECENT-CTIME>  \n",
       "7   /usr/lib/python3/dist-packages/cloudinit/warni...  <RECENT-CTIME>  \n",
       "6   /usr/lib/python3/dist-packages/DistUpgrade/xor...  <RECENT-CTIME>  "
      ]
     },
     "execution_count": 72,
     "metadata": {},
     "output_type": "execute_result"
    }
   ],
   "source": [
    "nonlibraries.sort_values('ctime', ascending=False)[:10]"
   ]
  },
  {
   "cell_type": "markdown",
   "metadata": {},
   "source": [
    "#original story: Okay, cool, it says that I I installed ddd recently. And postgresql! I remember installing those things. Neat.\n",
    "\n",
    "It shows what I installed recently"
   ]
  },
  {
   "cell_type": "markdown",
   "metadata": {},
   "source": [
    "The whole message here is that if you have a timestamp in seconds or milliseconds or nanoseconds, then you can just \"cast\" it to a `'datetime64[the-right-thing]'` and pandas/numpy will take care of the rest."
   ]
  },
  {
   "cell_type": "markdown",
   "metadata": {},
   "source": [
    "<style>\n",
    "    @font-face {\n",
    "        font-family: \"Computer Modern\";\n",
    "        src: url('http://mirrors.ctan.org/fonts/cm-unicode/fonts/otf/cmunss.otf');\n",
    "    }\n",
    "    div.cell{\n",
    "        width:800px;\n",
    "        margin-left:16% !important;\n",
    "        margin-right:auto;\n",
    "    }\n",
    "    h1 {\n",
    "        font-family: Helvetica, serif;\n",
    "    }\n",
    "    h4{\n",
    "        margin-top:12px;\n",
    "        margin-bottom: 3px;\n",
    "       }\n",
    "    div.text_cell_render{\n",
    "        font-family: Computer Modern, \"Helvetica Neue\", Arial, Helvetica, Geneva, sans-serif;\n",
    "        line-height: 145%;\n",
    "        font-size: 130%;\n",
    "        width:800px;\n",
    "        margin-left:auto;\n",
    "        margin-right:auto;\n",
    "    }\n",
    "    .CodeMirror{\n",
    "            font-family: \"Source Code Pro\", source-code-pro,Consolas, monospace;\n",
    "    }\n",
    "    .text_cell_render h5 {\n",
    "        font-weight: 300;\n",
    "        font-size: 22pt;\n",
    "        color: #4057A1;\n",
    "        font-style: italic;\n",
    "        margin-bottom: .5em;\n",
    "        margin-top: 0.5em;\n",
    "        display: block;\n",
    "    }\n",
    "    \n",
    "    .warning{\n",
    "        color: rgb( 240, 20, 20 )\n",
    "        }  "
   ]
  }
 ],
 "metadata": {
  "kernelspec": {
   "display_name": "Python 3",
   "language": "python",
   "name": "python3"
  },
  "language_info": {
   "codemirror_mode": {
    "name": "ipython",
    "version": 3
   },
   "file_extension": ".py",
   "mimetype": "text/x-python",
   "name": "python",
   "nbconvert_exporter": "python",
   "pygments_lexer": "ipython3",
   "version": "3.8.5"
  }
 },
 "nbformat": 4,
 "nbformat_minor": 4
}
