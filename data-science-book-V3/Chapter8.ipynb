{
 "cells": [
  {
   "cell_type": "markdown",
   "id": "8f4aa4d3",
   "metadata": {},
   "source": [
    "# Big Data\n",
    "\n",
    "## Data Landscape Today\n",
    "1. Prices of sensors are getting cheaper\n",
    "2. Storage cost is getting cheaper\n",
    "3. Shifting attitude on _privacy_ permit more data gathering\n",
    "4. Advances in _Machine Learning_ algorthims form foundation for many data mining techiques\n",
    "5. Huge data set (thousands of rows) means even tiny and trivial results are statistically significant "
   ]
  },
  {
   "cell_type": "markdown",
   "id": "cb55df3f",
   "metadata": {},
   "source": [
    "## Data Laws\n",
    "- Garbage in, garbage out\n",
    "- Bigger equals weirder -- if you are looking for anomalies, rare events that break the rules, then larger data sets are better\n",
    "- Linking adds potential -- connecting records with others creates potential findings"
   ]
  },
  {
   "cell_type": "markdown",
   "id": "bec7d637",
   "metadata": {},
   "source": [
    "## Cautionary Corollaries\n",
    "- The more complex the data, the more difficult it will be to ensure that the data are \"clean\" and fit for purpose\n",
    "- Rare and unusual events or patterns are almost always by nature highly unpredicable\n",
    "> - The data mining tools may show us a pattern, and we may even be able to replicate the pattern in some new data, but we may never be confident that we have understood the patern to the point where we believe we can isolate, control, or understand the causes.\n",
    "- Linkages may provide additional value, but they will also increase complexity o fthe data"
   ]
  },
  {
   "cell_type": "markdown",
   "id": "ef33eb58",
   "metadata": {},
   "source": [
    "## Conclusion\n",
    "- __High quality__ data, in abundance, together with tools used by _intelligent_ analysts in  _secure_ environment, may provide worthwhile benefits\n",
    "- The focus of data scientists shoulbe be on getting the _right data_ and the _right amount of data_ for the intended purposes"
   ]
  },
  {
   "cell_type": "markdown",
   "id": "8d7cc59a",
   "metadata": {},
   "source": [
    "## Tools\n",
    "- R\n",
    "- SAS\n",
    "- SPSS\n",
    "- \"Processing\""
   ]
  }
 ],
 "metadata": {
  "kernelspec": {
   "display_name": "R",
   "language": "R",
   "name": "ir"
  },
  "language_info": {
   "codemirror_mode": "r",
   "file_extension": ".r",
   "mimetype": "text/x-r-source",
   "name": "R",
   "pygments_lexer": "r",
   "version": "3.6.1"
  }
 },
 "nbformat": 4,
 "nbformat_minor": 5
}
