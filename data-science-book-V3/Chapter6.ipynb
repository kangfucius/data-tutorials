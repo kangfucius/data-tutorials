{
 "cells": [
  {
   "cell_type": "markdown",
   "id": "c884973d",
   "metadata": {},
   "source": [
    "\n",
    "\n",
    "Use the US census data for example: https://www.census.gov/data/tables/time-series/demo/popest/2010s-state-total.html\n",
    "\n",
    "Open the XLS link for \"Annual Estimates of the Resident Population for the United States, Regions, States, and Puerto Rico: April 1, 2010 to July 1, 2019 (NST-EST2019-01)\". SWitch the cell type of the Census column to \"General\" to remove the thousands-delimiter. Then highlight the cells for the 50 states and press ctrl-C (command-C) to copy the cells.\n",
    "\n",
    "then in R, recall with\n",
    "Windows: read.DIF(\"clipboard\", transpose=TRUE)\n",
    "Mac: read.table(pipe('pbpaste'))\n"
   ]
  },
  {
   "cell_type": "code",
   "execution_count": 143,
   "id": "769cfad7",
   "metadata": {},
   "outputs": [],
   "source": [
    "#Winodw\n",
    "#USstatePops <- read.DIF(\"clipboard\", transpose=TRUE)\n",
    "#Mac\n",
    "#USstatePops <- read.table(pipe('pbpaste'))"
   ]
  },
  {
   "cell_type": "code",
   "execution_count": 144,
   "id": "17b35a47",
   "metadata": {},
   "outputs": [
    {
     "data": {
      "text/html": [
       "<table class=\"dataframe\">\n",
       "<caption>A data.frame: 51 × 2</caption>\n",
       "<thead>\n",
       "\t<tr><th scope=col>State</th><th scope=col>Pop2010</th></tr>\n",
       "\t<tr><th scope=col>&lt;chr&gt;</th><th scope=col>&lt;int&gt;</th></tr>\n",
       "</thead>\n",
       "<tbody>\n",
       "\t<tr><td>.Alabama             </td><td> 4779736</td></tr>\n",
       "\t<tr><td>.Alaska              </td><td>  710231</td></tr>\n",
       "\t<tr><td>.Arizona             </td><td> 6392017</td></tr>\n",
       "\t<tr><td>.Arkansas            </td><td> 2915918</td></tr>\n",
       "\t<tr><td>.California          </td><td>37253956</td></tr>\n",
       "\t<tr><td>.Colorado            </td><td> 5029196</td></tr>\n",
       "\t<tr><td>.Connecticut         </td><td> 3574097</td></tr>\n",
       "\t<tr><td>.Delaware            </td><td>  897934</td></tr>\n",
       "\t<tr><td>.District of Columbia</td><td>  601723</td></tr>\n",
       "\t<tr><td>.Florida             </td><td>18801310</td></tr>\n",
       "\t<tr><td>.Georgia             </td><td> 9687653</td></tr>\n",
       "\t<tr><td>.Hawaii              </td><td> 1360301</td></tr>\n",
       "\t<tr><td>.Idaho               </td><td> 1567582</td></tr>\n",
       "\t<tr><td>.Illinois            </td><td>12830632</td></tr>\n",
       "\t<tr><td>.Indiana             </td><td> 6483802</td></tr>\n",
       "\t<tr><td>.Iowa                </td><td> 3046355</td></tr>\n",
       "\t<tr><td>.Kansas              </td><td> 2853118</td></tr>\n",
       "\t<tr><td>.Kentucky            </td><td> 4339367</td></tr>\n",
       "\t<tr><td>.Louisiana           </td><td> 4533372</td></tr>\n",
       "\t<tr><td>.Maine               </td><td> 1328361</td></tr>\n",
       "\t<tr><td>.Maryland            </td><td> 5773552</td></tr>\n",
       "\t<tr><td>.Massachusetts       </td><td> 6547629</td></tr>\n",
       "\t<tr><td>.Michigan            </td><td> 9883640</td></tr>\n",
       "\t<tr><td>.Minnesota           </td><td> 5303925</td></tr>\n",
       "\t<tr><td>.Mississippi         </td><td> 2967297</td></tr>\n",
       "\t<tr><td>.Missouri            </td><td> 5988927</td></tr>\n",
       "\t<tr><td>.Montana             </td><td>  989415</td></tr>\n",
       "\t<tr><td>.Nebraska            </td><td> 1826341</td></tr>\n",
       "\t<tr><td>.Nevada              </td><td> 2700551</td></tr>\n",
       "\t<tr><td>.New Hampshire       </td><td> 1316470</td></tr>\n",
       "\t<tr><td>.New Jersey          </td><td> 8791894</td></tr>\n",
       "\t<tr><td>.New Mexico          </td><td> 2059179</td></tr>\n",
       "\t<tr><td>.New York            </td><td>19378102</td></tr>\n",
       "\t<tr><td>.North Carolina      </td><td> 9535483</td></tr>\n",
       "\t<tr><td>.North Dakota        </td><td>  672591</td></tr>\n",
       "\t<tr><td>.Ohio                </td><td>11536504</td></tr>\n",
       "\t<tr><td>.Oklahoma            </td><td> 3751351</td></tr>\n",
       "\t<tr><td>.Oregon              </td><td> 3831074</td></tr>\n",
       "\t<tr><td>.Pennsylvania        </td><td>12702379</td></tr>\n",
       "\t<tr><td>.Rhode Island        </td><td> 1052567</td></tr>\n",
       "\t<tr><td>.South Carolina      </td><td> 4625364</td></tr>\n",
       "\t<tr><td>.South Dakota        </td><td>  814180</td></tr>\n",
       "\t<tr><td>.Tennessee           </td><td> 6346105</td></tr>\n",
       "\t<tr><td>.Texas               </td><td>25145561</td></tr>\n",
       "\t<tr><td>.Utah                </td><td> 2763885</td></tr>\n",
       "\t<tr><td>.Vermont             </td><td>  625741</td></tr>\n",
       "\t<tr><td>.Virginia            </td><td> 8001024</td></tr>\n",
       "\t<tr><td>.Washington          </td><td> 6724540</td></tr>\n",
       "\t<tr><td>.West Virginia       </td><td> 1852994</td></tr>\n",
       "\t<tr><td>.Wisconsin           </td><td> 5686986</td></tr>\n",
       "\t<tr><td>.Wyoming             </td><td>  563626</td></tr>\n",
       "</tbody>\n",
       "</table>\n"
      ],
      "text/latex": [
       "A data.frame: 51 × 2\n",
       "\\begin{tabular}{ll}\n",
       " State & Pop2010\\\\\n",
       " <chr> & <int>\\\\\n",
       "\\hline\n",
       "\t .Alabama              &  4779736\\\\\n",
       "\t .Alaska               &   710231\\\\\n",
       "\t .Arizona              &  6392017\\\\\n",
       "\t .Arkansas             &  2915918\\\\\n",
       "\t .California           & 37253956\\\\\n",
       "\t .Colorado             &  5029196\\\\\n",
       "\t .Connecticut          &  3574097\\\\\n",
       "\t .Delaware             &   897934\\\\\n",
       "\t .District of Columbia &   601723\\\\\n",
       "\t .Florida              & 18801310\\\\\n",
       "\t .Georgia              &  9687653\\\\\n",
       "\t .Hawaii               &  1360301\\\\\n",
       "\t .Idaho                &  1567582\\\\\n",
       "\t .Illinois             & 12830632\\\\\n",
       "\t .Indiana              &  6483802\\\\\n",
       "\t .Iowa                 &  3046355\\\\\n",
       "\t .Kansas               &  2853118\\\\\n",
       "\t .Kentucky             &  4339367\\\\\n",
       "\t .Louisiana            &  4533372\\\\\n",
       "\t .Maine                &  1328361\\\\\n",
       "\t .Maryland             &  5773552\\\\\n",
       "\t .Massachusetts        &  6547629\\\\\n",
       "\t .Michigan             &  9883640\\\\\n",
       "\t .Minnesota            &  5303925\\\\\n",
       "\t .Mississippi          &  2967297\\\\\n",
       "\t .Missouri             &  5988927\\\\\n",
       "\t .Montana              &   989415\\\\\n",
       "\t .Nebraska             &  1826341\\\\\n",
       "\t .Nevada               &  2700551\\\\\n",
       "\t .New Hampshire        &  1316470\\\\\n",
       "\t .New Jersey           &  8791894\\\\\n",
       "\t .New Mexico           &  2059179\\\\\n",
       "\t .New York             & 19378102\\\\\n",
       "\t .North Carolina       &  9535483\\\\\n",
       "\t .North Dakota         &   672591\\\\\n",
       "\t .Ohio                 & 11536504\\\\\n",
       "\t .Oklahoma             &  3751351\\\\\n",
       "\t .Oregon               &  3831074\\\\\n",
       "\t .Pennsylvania         & 12702379\\\\\n",
       "\t .Rhode Island         &  1052567\\\\\n",
       "\t .South Carolina       &  4625364\\\\\n",
       "\t .South Dakota         &   814180\\\\\n",
       "\t .Tennessee            &  6346105\\\\\n",
       "\t .Texas                & 25145561\\\\\n",
       "\t .Utah                 &  2763885\\\\\n",
       "\t .Vermont              &   625741\\\\\n",
       "\t .Virginia             &  8001024\\\\\n",
       "\t .Washington           &  6724540\\\\\n",
       "\t .West Virginia        &  1852994\\\\\n",
       "\t .Wisconsin            &  5686986\\\\\n",
       "\t .Wyoming              &   563626\\\\\n",
       "\\end{tabular}\n"
      ],
      "text/markdown": [
       "\n",
       "A data.frame: 51 × 2\n",
       "\n",
       "| State &lt;chr&gt; | Pop2010 &lt;int&gt; |\n",
       "|---|---|\n",
       "| .Alabama              |  4779736 |\n",
       "| .Alaska               |   710231 |\n",
       "| .Arizona              |  6392017 |\n",
       "| .Arkansas             |  2915918 |\n",
       "| .California           | 37253956 |\n",
       "| .Colorado             |  5029196 |\n",
       "| .Connecticut          |  3574097 |\n",
       "| .Delaware             |   897934 |\n",
       "| .District of Columbia |   601723 |\n",
       "| .Florida              | 18801310 |\n",
       "| .Georgia              |  9687653 |\n",
       "| .Hawaii               |  1360301 |\n",
       "| .Idaho                |  1567582 |\n",
       "| .Illinois             | 12830632 |\n",
       "| .Indiana              |  6483802 |\n",
       "| .Iowa                 |  3046355 |\n",
       "| .Kansas               |  2853118 |\n",
       "| .Kentucky             |  4339367 |\n",
       "| .Louisiana            |  4533372 |\n",
       "| .Maine                |  1328361 |\n",
       "| .Maryland             |  5773552 |\n",
       "| .Massachusetts        |  6547629 |\n",
       "| .Michigan             |  9883640 |\n",
       "| .Minnesota            |  5303925 |\n",
       "| .Mississippi          |  2967297 |\n",
       "| .Missouri             |  5988927 |\n",
       "| .Montana              |   989415 |\n",
       "| .Nebraska             |  1826341 |\n",
       "| .Nevada               |  2700551 |\n",
       "| .New Hampshire        |  1316470 |\n",
       "| .New Jersey           |  8791894 |\n",
       "| .New Mexico           |  2059179 |\n",
       "| .New York             | 19378102 |\n",
       "| .North Carolina       |  9535483 |\n",
       "| .North Dakota         |   672591 |\n",
       "| .Ohio                 | 11536504 |\n",
       "| .Oklahoma             |  3751351 |\n",
       "| .Oregon               |  3831074 |\n",
       "| .Pennsylvania         | 12702379 |\n",
       "| .Rhode Island         |  1052567 |\n",
       "| .South Carolina       |  4625364 |\n",
       "| .South Dakota         |   814180 |\n",
       "| .Tennessee            |  6346105 |\n",
       "| .Texas                | 25145561 |\n",
       "| .Utah                 |  2763885 |\n",
       "| .Vermont              |   625741 |\n",
       "| .Virginia             |  8001024 |\n",
       "| .Washington           |  6724540 |\n",
       "| .West Virginia        |  1852994 |\n",
       "| .Wisconsin            |  5686986 |\n",
       "| .Wyoming              |   563626 |\n",
       "\n"
      ],
      "text/plain": [
       "   State                 Pop2010 \n",
       "1  .Alabama               4779736\n",
       "2  .Alaska                 710231\n",
       "3  .Arizona               6392017\n",
       "4  .Arkansas              2915918\n",
       "5  .California           37253956\n",
       "6  .Colorado              5029196\n",
       "7  .Connecticut           3574097\n",
       "8  .Delaware               897934\n",
       "9  .District of Columbia   601723\n",
       "10 .Florida              18801310\n",
       "11 .Georgia               9687653\n",
       "12 .Hawaii                1360301\n",
       "13 .Idaho                 1567582\n",
       "14 .Illinois             12830632\n",
       "15 .Indiana               6483802\n",
       "16 .Iowa                  3046355\n",
       "17 .Kansas                2853118\n",
       "18 .Kentucky              4339367\n",
       "19 .Louisiana             4533372\n",
       "20 .Maine                 1328361\n",
       "21 .Maryland              5773552\n",
       "22 .Massachusetts         6547629\n",
       "23 .Michigan              9883640\n",
       "24 .Minnesota             5303925\n",
       "25 .Mississippi           2967297\n",
       "26 .Missouri              5988927\n",
       "27 .Montana                989415\n",
       "28 .Nebraska              1826341\n",
       "29 .Nevada                2700551\n",
       "30 .New Hampshire         1316470\n",
       "31 .New Jersey            8791894\n",
       "32 .New Mexico            2059179\n",
       "33 .New York             19378102\n",
       "34 .North Carolina        9535483\n",
       "35 .North Dakota           672591\n",
       "36 .Ohio                 11536504\n",
       "37 .Oklahoma              3751351\n",
       "38 .Oregon                3831074\n",
       "39 .Pennsylvania         12702379\n",
       "40 .Rhode Island          1052567\n",
       "41 .South Carolina        4625364\n",
       "42 .South Dakota           814180\n",
       "43 .Tennessee             6346105\n",
       "44 .Texas                25145561\n",
       "45 .Utah                  2763885\n",
       "46 .Vermont                625741\n",
       "47 .Virginia              8001024\n",
       "48 .Washington            6724540\n",
       "49 .West Virginia         1852994\n",
       "50 .Wisconsin             5686986\n",
       "51 .Wyoming                563626"
      ]
     },
     "metadata": {},
     "output_type": "display_data"
    },
    {
     "data": {
      "text/plain": [
       "    State              Pop2010        \n",
       " Length:51          Min.   :  563626  \n",
       " Class :character   1st Qu.: 1696962  \n",
       " Mode  :character   Median : 4339367  \n",
       "                    Mean   : 6053834  \n",
       "                    3rd Qu.: 6636084  \n",
       "                    Max.   :37253956  "
      ]
     },
     "metadata": {},
     "output_type": "display_data"
    }
   ],
   "source": [
    "# read excel directly (use suppressMessages() to suppress the \"New names: messages\")\n",
    "library(\"readxl\")\n",
    "suppressMessages(my_data <- read_excel(\"data/nst-est2019-01.xlsx\", skip=3))\n",
    "\n",
    "# extract the subset we need\n",
    "state_pops <- data.frame(my_data[c(6:56), c(1:2)])\n",
    "names(state_pops) <- c(\"State\", \"Pop2010\")\n",
    "\n",
    "# convert census column to integers\n",
    "state_pops$Pop2010 <- as.integer(state_pops$Pop2010)\n",
    "\n",
    "state_pops\n",
    "summary(state_pops)"
   ]
  },
  {
   "cell_type": "code",
   "execution_count": 145,
   "id": "df6c13df",
   "metadata": {},
   "outputs": [
    {
     "name": "stdout",
     "output_type": "stream",
     "text": [
      "[1]   563626 37253956\n",
      "[1] 6053834\n",
      "[1] 4339367\n",
      "[1] \"numeric\"\n",
      "[1] 4.656676e+13\n",
      "[1] 6823984\n"
     ]
    }
   ],
   "source": [
    "print(range(state_pops$Pop2010))\n",
    "print(mean(state_pops$Pop2010), digits=2)\n",
    "print(median(state_pops$Pop2010))\n",
    "print(mode(state_pops$Pop2010))\n",
    "print(var(state_pops$Pop2010), digits=7)\n",
    "print(sd(state_pops$Pop2010))"
   ]
  },
  {
   "cell_type": "code",
   "execution_count": 146,
   "id": "3d83f9e4",
   "metadata": {},
   "outputs": [
    {
     "data": {
      "image/png": "[encoded data removed]",
      "text/plain": [
       "Plot with title “Histogram of state_pops$Pop2010”"
      ]
     },
     "metadata": {
      "image/png": {
       "height": 420,
       "width": 420
      }
     },
     "output_type": "display_data"
    }
   ],
   "source": [
    "hist(state_pops$Pop2010)"
   ]
  },
  {
   "cell_type": "code",
   "execution_count": 158,
   "id": "44e809ce",
   "metadata": {},
   "outputs": [
    {
     "data": {
      "image/png": "[encoded data removed]",
      "text/plain": [
       "Plot with title “Histogram of state_pops$Pop2010”"
      ]
     },
     "metadata": {
      "image/png": {
       "height": 420,
       "width": 420
      }
     },
     "output_type": "display_data"
    }
   ],
   "source": [
    "hist(state_pops$Pop2010, breaks=20)"
   ]
  },
  {
   "cell_type": "markdown",
   "id": "4da2e9e7",
   "metadata": {},
   "source": [
    "The normal distribution is used extensively through applied statistics\n",
    "as a tool for making comparisons. We can use rnorm() function to generate a random number data set that fits a normal distribution"
   ]
  },
  {
   "cell_type": "code",
   "execution_count": 148,
   "id": "ead2e9ee",
   "metadata": {},
   "outputs": [
    {
     "data": {
      "image/png": "[encoded data removed]",
      "text/plain": [
       "Plot with title “Histogram of rnorm(51, mean(state_pops$Pop2010), var(state_pops$Pop2010))”"
      ]
     },
     "metadata": {
      "image/png": {
       "height": 420,
       "width": 420
      }
     },
     "output_type": "display_data"
    }
   ],
   "source": [
    "hist(rnorm(51, mean(state_pops$Pop2010), var(state_pops$Pop2010)))"
   ]
  },
  {
   "cell_type": "markdown",
   "id": "18ac8e33",
   "metadata": {},
   "source": [
    "## Saving a Data Frame\n",
    "\n",
    "Data Frames can be saved for later use"
   ]
  },
  {
   "cell_type": "code",
   "execution_count": 159,
   "id": "4437599b",
   "metadata": {},
   "outputs": [],
   "source": [
    "save(state_pops, file=\"data/state_pops.rda\")\n",
    "rm(state_pops)"
   ]
  }
 ],
 "metadata": {
  "kernelspec": {
   "display_name": "R",
   "language": "R",
   "name": "ir"
  },
  "language_info": {
   "codemirror_mode": "r",
   "file_extension": ".r",
   "mimetype": "text/x-r-source",
   "name": "R",
   "pygments_lexer": "r",
   "version": "3.6.1"
  }
 },
 "nbformat": 4,
 "nbformat_minor": 5
}
