{
 "cells": [
  {
   "cell_type": "markdown",
   "id": "7b257e1d",
   "metadata": {},
   "source": [
    "c(a, b, c,...) concatenates elements into a vector"
   ]
  },
  {
   "cell_type": "code",
   "execution_count": 1,
   "id": "c3ea43c5",
   "metadata": {},
   "outputs": [],
   "source": [
    "myFamilyAges <- c(43, 42, 12, 8, 5)"
   ]
  },
  {
   "cell_type": "markdown",
   "id": "e0954ee4",
   "metadata": {},
   "source": [
    "Common stats operations on a vector include sum, mean, range"
   ]
  },
  {
   "cell_type": "code",
   "execution_count": 5,
   "id": "71b39fd7",
   "metadata": {},
   "outputs": [
    {
     "name": "stdout",
     "output_type": "stream",
     "text": [
      "[1] 110\n",
      "[1] 22\n",
      "[1]  5 43\n"
     ]
    }
   ],
   "source": [
    "print(sum(myFamilyAges))\n",
    "print(mean(myFamilyAges))\n",
    "print(range(myFamilyAges))"
   ]
  },
  {
   "cell_type": "markdown",
   "id": "8f92282a",
   "metadata": {},
   "source": [
    "A few more vectors to make up the family stats"
   ]
  },
  {
   "cell_type": "code",
   "execution_count": 7,
   "id": "9b854fd5",
   "metadata": {},
   "outputs": [],
   "source": [
    "myFamilyNames <- c(\"Dad\", \"Mom\", \"Sis\",\"Bro\", \"Dog\")\n",
    "myFamilyGenders <- c(\"Male\", \"Female\", \"Female\", \"Male\", \"Female\")\n",
    "myFamilyWeights <- c(188, 136, 83, 61, 44)"
   ]
  },
  {
   "cell_type": "markdown",
   "id": "aac3c11e",
   "metadata": {},
   "source": [
    "Append the vectors into a Data Frame"
   ]
  },
  {
   "cell_type": "code",
   "execution_count": 8,
   "id": "60065429",
   "metadata": {},
   "outputs": [],
   "source": [
    "myFamily <- data.frame(myFamilyNames, myFamilyAges, myFamilyGenders, myFamilyWeights)"
   ]
  },
  {
   "cell_type": "code",
   "execution_count": 9,
   "id": "a25d28e2",
   "metadata": {},
   "outputs": [
    {
     "data": {
      "text/html": [
       "<table class=\"dataframe\">\n",
       "<caption>A data.frame: 5 × 4</caption>\n",
       "<thead>\n",
       "\t<tr><th scope=col>myFamilyNames</th><th scope=col>myFamilyAges</th><th scope=col>myFamilyGenders</th><th scope=col>myFamilyWeights</th></tr>\n",
       "\t<tr><th scope=col>&lt;fct&gt;</th><th scope=col>&lt;dbl&gt;</th><th scope=col>&lt;fct&gt;</th><th scope=col>&lt;dbl&gt;</th></tr>\n",
       "</thead>\n",
       "<tbody>\n",
       "\t<tr><td>Dad</td><td>43</td><td>Male  </td><td>188</td></tr>\n",
       "\t<tr><td>Mom</td><td>42</td><td>Female</td><td>136</td></tr>\n",
       "\t<tr><td>Sis</td><td>12</td><td>Female</td><td> 83</td></tr>\n",
       "\t<tr><td>Bro</td><td> 8</td><td>Male  </td><td> 61</td></tr>\n",
       "\t<tr><td>Dog</td><td> 5</td><td>Female</td><td> 44</td></tr>\n",
       "</tbody>\n",
       "</table>\n"
      ],
      "text/latex": [
       "A data.frame: 5 × 4\n",
       "\\begin{tabular}{llll}\n",
       " myFamilyNames & myFamilyAges & myFamilyGenders & myFamilyWeights\\\\\n",
       " <fct> & <dbl> & <fct> & <dbl>\\\\\n",
       "\\hline\n",
       "\t Dad & 43 & Male   & 188\\\\\n",
       "\t Mom & 42 & Female & 136\\\\\n",
       "\t Sis & 12 & Female &  83\\\\\n",
       "\t Bro &  8 & Male   &  61\\\\\n",
       "\t Dog &  5 & Female &  44\\\\\n",
       "\\end{tabular}\n"
      ],
      "text/markdown": [
       "\n",
       "A data.frame: 5 × 4\n",
       "\n",
       "| myFamilyNames &lt;fct&gt; | myFamilyAges &lt;dbl&gt; | myFamilyGenders &lt;fct&gt; | myFamilyWeights &lt;dbl&gt; |\n",
       "|---|---|---|---|\n",
       "| Dad | 43 | Male   | 188 |\n",
       "| Mom | 42 | Female | 136 |\n",
       "| Sis | 12 | Female |  83 |\n",
       "| Bro |  8 | Male   |  61 |\n",
       "| Dog |  5 | Female |  44 |\n",
       "\n"
      ],
      "text/plain": [
       "  myFamilyNames myFamilyAges myFamilyGenders myFamilyWeights\n",
       "1 Dad           43           Male            188            \n",
       "2 Mom           42           Female          136            \n",
       "3 Sis           12           Female           83            \n",
       "4 Bro            8           Male             61            \n",
       "5 Dog            5           Female           44            "
      ]
     },
     "metadata": {},
     "output_type": "display_data"
    }
   ],
   "source": [
    "myFamily"
   ]
  },
  {
   "cell_type": "markdown",
   "id": "8c5966d1",
   "metadata": {},
   "source": [
    "myFamilyNames should be charactor type (strings), so use as.character to convert"
   ]
  },
  {
   "cell_type": "code",
   "execution_count": 26,
   "id": "e87c9bff",
   "metadata": {},
   "outputs": [],
   "source": [
    "myFamily$myFamilyNames = as.character(myFamily$myFamilyNames)"
   ]
  },
  {
   "cell_type": "code",
   "execution_count": 27,
   "id": "0910344f",
   "metadata": {},
   "outputs": [
    {
     "name": "stdout",
     "output_type": "stream",
     "text": [
      "'data.frame':\t5 obs. of  4 variables:\n",
      " $ myFamilyNames  : chr  \"Dad\" \"Mom\" \"Sis\" \"Bro\" ...\n",
      " $ myFamilyAges   : num  43 42 12 8 5\n",
      " $ myFamilyGenders: Factor w/ 2 levels \"Female\",\"Male\": 2 1 1 2 1\n",
      " $ myFamilyWeights: num  188 136 83 61 44\n"
     ]
    }
   ],
   "source": [
    "str(myFamily)"
   ]
  },
  {
   "cell_type": "markdown",
   "id": "09580c9e",
   "metadata": {},
   "source": [
    "## Some Statistics\n",
    "- The __mean__ (technically the arithmetic mean), a measure of central\n",
    "tendency that is calculated by adding together all of the observations\n",
    "and dividing by the number of observations.\n",
    "- The __median__, another measure of central tendency, but one that\n",
    "cannot be directly calculated. Instead, you make a sorted list of\n",
    "all of the observations in the sample, then go halfway up that\n",
    "list. Whatever the value of the observation is at the halfway\n",
    "point, that is the median.\n",
    "- A __quartile__ is a type of _quantile_ which divides the number of data points into four parts of more-or-less equal size. The data must be ordered from the smallest to the largest to compute quantiles, as such, quantiles are a form of order statistics. The three main quartiles are as follows:\n",
    "> - The first quartile ($Q_1$) is defined as the midle number betwen the smallest number (_mininum_) and the _median_ of the data set. Also known as the lower of 25th empirical quartile.\n",
    "> - The second quartile ($Q_2$) is the median of a data set; thus 50% of the data lies below this point.\n",
    "> - The third quartile ($Q_3$) is the middle value between the miedin and the highst value (_maximum_) of the data set. Also known as the upper or 75th empirical quartile, as 75% of the data lies below this point.\n",
    "- The __range__, which is a measure of \"dispersion\" - how spread out a\n",
    "bunch of numbers in a sample are - calculated by subtracting the\n",
    "lowest value from the highest value.\n",
    "- The __mode__, another measure of central tendency. The mode is the\n",
    "value that occurs most often in a sample of data. Like the median,\n",
    "the mode cannot be directly calculated. You just have to count up how many of each number there are and then pick the\n",
    "category that has the most.\n",
    "- The __variance__, a measure of dispersion. Like the range, the variance\n",
    "describes how spread out a sample of numbers is. Unlike\n",
    "the range, though, which just uses two numbers to calculate dispersion,\n",
    "the variance is obtained from all of the numbers\n",
    "through a simple calculation that compares each number to the\n",
    "mean.\n",
    "- The __standard deviation__, a measure of the amount of deviation, or dispersion of a set of values. A low standard deviation indicates that the values tend to be close to the _mean_ (also called the _expected value_) of the set, while a high standard deviation indicates that the values are spread out oer a wider range. For a _normally distributed_ random variable, $\\mu$ is the mean of the distribution, and $\\sigma$ is its standard deviation: (the _68-95-99.7 rule_)\n",
    "\n",
    "> - $Pr(\\mu - 1\\sigma \\leq X \\leq \\mu + 1\\sigma \\approx 68.27%$\n",
    "> - $Pr(\\mu - 2\\sigma \\leq X \\leq \\mu + 2\\sigma \\approx 95.45%$ \n",
    "> - $Pr(\\mu - 3\\sigma \\leq X \\leq \\mu + 2\\sigma \\approx 99.73%$ \n",
    "\n",
    "\n",
    "### As an example\n",
    "\n",
    "Note that standard deviation, $$ SD = \\sqrt{\\, \\frac{ \\sum(X - \\overline{x})^2 }{n - 1}} $$\n",
    "\n",
    "| WHO | AGE | AGE - MEAN | (AGE - MEAN)<SUP>2</SUP> |\n",
    "| --- | --- | --- | --- |\n",
    "| Dad | $$43$$ | $$43 - 22 = 21$$ | $$21 \\times 21 = 441$$ |\n",
    "| Mom | $$42$$ | $$42 - 22 = 20$$ | $$20 \\times 20 = 400$$ |\n",
    "| Sis | $$12$$ | $$12 - 22 = -10$$ | $$-10 \\times -10 = 100$$ |\n",
    "| Bro | $$8$$ | $$8 - 22 = -14$$ | $$-14 \\times -14 = 196$$ |\n",
    "| Dog | $$5$$ | $$5 - 22 = -17$$ | $$-17 \\times -17 = 289$$ |\n",
    "| &nbsp; | &nbsp; | <div style=\"text-align: right\">__Total:__</div> | 1426 |\n",
    "| &nbsp; | &nbsp; | <div style=\"text-align: right\">__Total/(5-1):__</div>| 356.5 |\n"
   ]
  },
  {
   "cell_type": "code",
   "execution_count": 32,
   "id": "f4c218c8",
   "metadata": {},
   "outputs": [
    {
     "name": "stdout",
     "output_type": "stream",
     "text": [
      "[1] 356.5\n",
      "[1] 18.88121\n"
     ]
    }
   ],
   "source": [
    "print(var(myFamily$myFamilyAges))\n",
    "print(sd(myFamily$myFamily))"
   ]
  }
 ],
 "metadata": {
  "kernelspec": {
   "display_name": "R",
   "language": "R",
   "name": "ir"
  },
  "language_info": {
   "codemirror_mode": "r",
   "file_extension": ".r",
   "mimetype": "text/x-r-source",
   "name": "R",
   "pygments_lexer": "r",
   "version": "3.6.1"
  }
 },
 "nbformat": 4,
 "nbformat_minor": 5
}
