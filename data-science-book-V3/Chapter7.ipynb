{
 "cells": [
  {
   "cell_type": "markdown",
   "id": "54ef41e4",
   "metadata": {},
   "source": [
    "# Sampling\n",
    "The process of drawing a subset from a population. We reuse the data frame of US populations saved from previous chapter."
   ]
  },
  {
   "cell_type": "code",
   "execution_count": 23,
   "id": "3fe77163",
   "metadata": {},
   "outputs": [
    {
     "data": {
      "text/plain": [
       "    State              Pop2010        \n",
       " Length:51          Min.   :  563626  \n",
       " Class :character   1st Qu.: 1696962  \n",
       " Mode  :character   Median : 4339367  \n",
       "                    Mean   : 6053834  \n",
       "                    3rd Qu.: 6636084  \n",
       "                    Max.   :37253956  "
      ]
     },
     "metadata": {},
     "output_type": "display_data"
    }
   ],
   "source": [
    "load(file='data/state_pops.rda')\n",
    "#head(state_pops)\n",
    "summary(state_pops)"
   ]
  },
  {
   "cell_type": "markdown",
   "id": "c30f0946",
   "metadata": {},
   "source": [
    "Draw random sample of 16 state populations with sample(), and take an average (compare with the average of the entire population, 6,053,834)"
   ]
  },
  {
   "cell_type": "code",
   "execution_count": 28,
   "id": "a3e2a208",
   "metadata": {},
   "outputs": [
    {
     "data": {
      "text/html": [
       "4908891.6875"
      ],
      "text/latex": [
       "4908891.6875"
      ],
      "text/markdown": [
       "4908891.6875"
      ],
      "text/plain": [
       "[1] 4908892"
      ]
     },
     "metadata": {},
     "output_type": "display_data"
    }
   ],
   "source": [
    "mean(sample(state_pops$Pop2010, size=16, replace=TRUE))"
   ]
  },
  {
   "cell_type": "markdown",
   "id": "07d75efd",
   "metadata": {},
   "source": [
    "Repeat the process a few times with replicate"
   ]
  },
  {
   "cell_type": "code",
   "execution_count": 32,
   "id": "c2d6a44e",
   "metadata": {},
   "outputs": [
    {
     "data": {
      "text/html": [
       "<style>\n",
       ".list-inline {list-style: none; margin:0; padding: 0}\n",
       ".list-inline>li {display: inline-block}\n",
       ".list-inline>li:not(:last-child)::after {content: \"\\00b7\"; padding: 0 .5ex}\n",
       "</style>\n",
       "<ol class=list-inline><li>10094232.3125</li><li>6269047.25</li><li>5110977.375</li><li>5812031.1875</li></ol>\n"
      ],
      "text/latex": [
       "\\begin{enumerate*}\n",
       "\\item 10094232.3125\n",
       "\\item 6269047.25\n",
       "\\item 5110977.375\n",
       "\\item 5812031.1875\n",
       "\\end{enumerate*}\n"
      ],
      "text/markdown": [
       "1. 10094232.3125\n",
       "2. 6269047.25\n",
       "3. 5110977.375\n",
       "4. 5812031.1875\n",
       "\n",
       "\n"
      ],
      "text/plain": [
       "[1] 10094232  6269047  5110977  5812031"
      ]
     },
     "metadata": {},
     "output_type": "display_data"
    }
   ],
   "source": [
    "replicate(4, mean(sample(state_pops$Pop2010, size=16, replace=TRUE)), simplify=TRUE)"
   ]
  },
  {
   "cell_type": "markdown",
   "id": "845668b2",
   "metadata": {},
   "source": [
    "now repeat many times and take an average -- should be closer to the actual the higher number the replicate\n",
    "\n",
    "Also chart out the histogram to see what the distribution looks like"
   ]
  },
  {
   "cell_type": "code",
   "execution_count": 108,
   "id": "4b54a83c",
   "metadata": {},
   "outputs": [
    {
     "name": "stdout",
     "output_type": "stream",
     "text": [
      "[1] Sample average =  6075500.95435937\n",
      "[1] Population averge =  6053834.07843137  compare:  100.357903365822 %\n"
     ]
    },
    {
     "data": {
      "image/png": "[encoded data removed]",
      "text/plain": [
       "Plot with title “Random Sample Set of 2010 US Population”"
      ]
     },
     "metadata": {
      "image/png": {
       "height": 420,
       "width": 420
      }
     },
     "output_type": "display_data"
    }
   ],
   "source": [
    "sample_set <- replicate(4000, mean(sample(state_pops$Pop2010, size=16, replace=TRUE)), simplify=TRUE)\n",
    "sample_avg <- mean(sample_set)\n",
    "print(paste(\"Sample average = \", sample_avg), quote=FALSE)\n",
    "pop_avg <- mean(state_pops$Pop2010)\n",
    "print(paste(\"Population averge = \", pop_avg, \" compare: \", 100*sample_avg/pop_avg, \"%\"), quote=FALSE)\n",
    "hist(sample_set, main='Random Sample Set of 2010 US Population')"
   ]
  },
  {
   "cell_type": "markdown",
   "id": "8060e2f1",
   "metadata": {},
   "source": [
    "Compare results from a greater sample size (51, i.e. the actual population). We will do 100 replications as there will still be a difference because we are sampling with replace=TRUE."
   ]
  },
  {
   "cell_type": "code",
   "execution_count": 90,
   "id": "61d1d549",
   "metadata": {},
   "outputs": [
    {
     "name": "stdout",
     "output_type": "stream",
     "text": [
      "[1] Population averge =  6053834.07843137  compare:  102.651176766156 %\n"
     ]
    }
   ],
   "source": [
    "sample_avg2 = mean(replicate(100, mean(sample(state_pops$Pop2010, size=51, replace=TRUE)), simplify=TRUE))\n",
    "print(paste(\"Population averge = \", pop_avg, \" compare: \", 100*sample_avg2/pop_avg, \"%\"), quote=FALSE)"
   ]
  },
  {
   "cell_type": "markdown",
   "id": "65b62522",
   "metadata": {},
   "source": [
    "The sampling results will be exactly the same as actual if replace were FALSE"
   ]
  },
  {
   "cell_type": "code",
   "execution_count": 93,
   "id": "3aaf2475",
   "metadata": {},
   "outputs": [
    {
     "name": "stdout",
     "output_type": "stream",
     "text": [
      "[1] Population averge =  6053834.07843137  compare:  100 %\n"
     ]
    }
   ],
   "source": [
    "sample_avg3 = mean(sample(state_pops$Pop2010, size=51, replace=FALSE))\n",
    "print(paste(\"Population averge = \", pop_avg, \" compare: \", 100*sample_avg3/pop_avg, \"%\"), quote=FALSE)"
   ]
  },
  {
   "cell_type": "markdown",
   "id": "79d977e3",
   "metadata": {},
   "source": [
    "Exploring sample distribution with smaller sample size (5) and 10,000 iterations"
   ]
  },
  {
   "cell_type": "code",
   "execution_count": 107,
   "id": "580930a4",
   "metadata": {},
   "outputs": [
    {
     "name": "stdout",
     "output_type": "stream",
     "text": [
      "[1] \"number of samples =  10000\"\n",
      "[1] \"avg of the sample set =  6072189.84822\"\n"
     ]
    },
    {
     "data": {
      "text/plain": [
       "    Min.  1st Qu.   Median     Mean  3rd Qu.     Max. \n",
       "  736838  3879220  5354085  6072190  7625337 21715991 "
      ]
     },
     "metadata": {},
     "output_type": "display_data"
    },
    {
     "data": {
      "image/png": "[encoded data removed]",
      "text/plain": [
       "Plot with title “Histogram of sample_set4”"
      ]
     },
     "metadata": {
      "image/png": {
       "height": 420,
       "width": 420
      }
     },
     "output_type": "display_data"
    }
   ],
   "source": [
    "sample_set4 = replicate(10000, mean(sample(state_pops$Pop2010, size=5, replace=TRUE)), simplify=TRUE)\n",
    "print(paste(\"number of samples = \", length(sample_set4)))\n",
    "print(paste(\"avg of the sample set = \", mean(sample_set4)))\n",
    "hist(sample_set4)\n",
    "summary(sample_set4)"
   ]
  },
  {
   "cell_type": "code",
   "execution_count": null,
   "id": "29404064",
   "metadata": {},
   "outputs": [],
   "source": []
  }
 ],
 "metadata": {
  "kernelspec": {
   "display_name": "R",
   "language": "R",
   "name": "ir"
  },
  "language_info": {
   "codemirror_mode": "r",
   "file_extension": ".r",
   "mimetype": "text/x-r-source",
   "name": "R",
   "pygments_lexer": "r",
   "version": "3.6.1"
  }
 },
 "nbformat": 4,
 "nbformat_minor": 5
}
