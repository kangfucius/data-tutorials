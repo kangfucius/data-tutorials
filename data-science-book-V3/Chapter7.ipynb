{
 "cells": [
  {
   "cell_type": "markdown",
   "id": "c0a7fe02",
   "metadata": {},
   "source": [
    "# Sampling\n",
    "The process of drawing a subset from a population. We reuse the data frame of US populations saved from previous chapter."
   ]
  },
  {
   "cell_type": "code",
   "execution_count": 38,
   "id": "448237b0",
   "metadata": {},
   "outputs": [
    {
     "data": {
      "text/plain": [
       "    State              Pop2010        \n",
       " Length:51          Min.   :  563626  \n",
       " Class :character   1st Qu.: 1696962  \n",
       " Mode  :character   Median : 4339367  \n",
       "                    Mean   : 6053834  \n",
       "                    3rd Qu.: 6636084  \n",
       "                    Max.   :37253956  "
      ]
     },
     "metadata": {},
     "output_type": "display_data"
    }
   ],
   "source": [
    "load(file='data/state_pops.rda')\n",
    "#head(state_pops)\n",
    "summary(state_pops)"
   ]
  },
  {
   "cell_type": "markdown",
   "id": "d38839be",
   "metadata": {},
   "source": [
    "Draw random sample of 16 state populations with sample(), and take an average (compare with the average of the entire population, 6,053,834)"
   ]
  },
  {
   "cell_type": "code",
   "execution_count": 39,
   "id": "604ca7e8",
   "metadata": {},
   "outputs": [
    {
     "data": {
      "text/html": [
       "6920571.25"
      ],
      "text/latex": [
       "6920571.25"
      ],
      "text/markdown": [
       "6920571.25"
      ],
      "text/plain": [
       "[1] 6920571"
      ]
     },
     "metadata": {},
     "output_type": "display_data"
    }
   ],
   "source": [
    "mean(sample(state_pops$Pop2010, size=16, replace=TRUE))"
   ]
  },
  {
   "cell_type": "markdown",
   "id": "fbe3dd26",
   "metadata": {},
   "source": [
    "Repeat the process a few times with replicate"
   ]
  },
  {
   "cell_type": "code",
   "execution_count": 40,
   "id": "e28f5d72",
   "metadata": {},
   "outputs": [
    {
     "data": {
      "text/html": [
       "<style>\n",
       ".list-inline {list-style: none; margin:0; padding: 0}\n",
       ".list-inline>li {display: inline-block}\n",
       ".list-inline>li:not(:last-child)::after {content: \"\\00b7\"; padding: 0 .5ex}\n",
       "</style>\n",
       "<ol class=list-inline><li>6226698.5625</li><li>6044305</li><li>5614455.1875</li><li>4366569.3125</li></ol>\n"
      ],
      "text/latex": [
       "\\begin{enumerate*}\n",
       "\\item 6226698.5625\n",
       "\\item 6044305\n",
       "\\item 5614455.1875\n",
       "\\item 4366569.3125\n",
       "\\end{enumerate*}\n"
      ],
      "text/markdown": [
       "1. 6226698.5625\n",
       "2. 6044305\n",
       "3. 5614455.1875\n",
       "4. 4366569.3125\n",
       "\n",
       "\n"
      ],
      "text/plain": [
       "[1] 6226699 6044305 5614455 4366569"
      ]
     },
     "metadata": {},
     "output_type": "display_data"
    }
   ],
   "source": [
    "replicate(4, mean(sample(state_pops$Pop2010, size=16, replace=TRUE)), simplify=TRUE)"
   ]
  },
  {
   "cell_type": "markdown",
   "id": "efab7168",
   "metadata": {},
   "source": [
    "now repeat many times and take an average -- should be closer to the actual the higher number the replicate\n",
    "\n",
    "Also chart out the histogram to see what the distribution looks like"
   ]
  },
  {
   "cell_type": "code",
   "execution_count": 41,
   "id": "f00a92f0",
   "metadata": {},
   "outputs": [
    {
     "name": "stdout",
     "output_type": "stream",
     "text": [
      "[1] Sample average =  6047339.21570313\n",
      "[1] Population averge =  6053834.07843137  compare:  99.89271488706 %\n"
     ]
    },
    {
     "data": {
      "image/png": "[encoded data removed]",
      "text/plain": [
       "Plot with title “Random Sample Set of 2010 US Population”"
      ]
     },
     "metadata": {
      "image/png": {
       "height": 420,
       "width": 420
      }
     },
     "output_type": "display_data"
    }
   ],
   "source": [
    "sample_set <- replicate(4000, mean(sample(state_pops$Pop2010, size=16, replace=TRUE)), simplify=TRUE)\n",
    "sample_avg <- mean(sample_set)\n",
    "print(paste(\"Sample average = \", sample_avg), quote=FALSE)\n",
    "pop_avg <- mean(state_pops$Pop2010)\n",
    "print(paste(\"Population averge = \", pop_avg, \" compare: \", 100*sample_avg/pop_avg, \"%\"), quote=FALSE)\n",
    "hist(sample_set, main='Random Sample Set of 2010 US Population')"
   ]
  },
  {
   "cell_type": "markdown",
   "id": "bff1d8a2",
   "metadata": {},
   "source": [
    "Compare results from a greater sample size (51, i.e. the actual population). We will do 100 replications as there will still be a difference because we are sampling with replace=TRUE."
   ]
  },
  {
   "cell_type": "code",
   "execution_count": 42,
   "id": "f5888d78",
   "metadata": {},
   "outputs": [
    {
     "name": "stdout",
     "output_type": "stream",
     "text": [
      "[1] Population averge =  6053834.07843137  compare:  100.57508033687 %\n"
     ]
    }
   ],
   "source": [
    "sample_avg2 = mean(replicate(100, mean(sample(state_pops$Pop2010, size=51, replace=TRUE)), simplify=TRUE))\n",
    "print(paste(\"Population averge = \", pop_avg, \" compare: \", 100*sample_avg2/pop_avg, \"%\"), quote=FALSE)"
   ]
  },
  {
   "cell_type": "markdown",
   "id": "9ca46bdf",
   "metadata": {},
   "source": [
    "The sampling results will be exactly the same as actual if replace were FALSE"
   ]
  },
  {
   "cell_type": "code",
   "execution_count": 43,
   "id": "bbbd96aa",
   "metadata": {},
   "outputs": [
    {
     "name": "stdout",
     "output_type": "stream",
     "text": [
      "[1] Population averge =  6053834.07843137  compare:  100 %\n"
     ]
    }
   ],
   "source": [
    "sample_avg3 = mean(sample(state_pops$Pop2010, size=51, replace=FALSE))\n",
    "print(paste(\"Population averge = \", pop_avg, \" compare: \", 100*sample_avg3/pop_avg, \"%\"), quote=FALSE)"
   ]
  },
  {
   "cell_type": "markdown",
   "id": "f9a486e1",
   "metadata": {},
   "source": [
    "Exploring sample distribution with smaller sample size (5) and 10,000 iterations"
   ]
  },
  {
   "cell_type": "code",
   "execution_count": 44,
   "id": "a29a1482",
   "metadata": {},
   "outputs": [
    {
     "name": "stdout",
     "output_type": "stream",
     "text": [
      "[1] number of samples =  10000\n",
      "[1] avg of the sample set =  6,038,604\n"
     ]
    },
    {
     "data": {
      "text/plain": [
       "    Min.  1st Qu.   Median     Mean  3rd Qu.     Max. \n",
       "  807708  3837386  5328854  6038604  7564920 23853793 "
      ]
     },
     "metadata": {},
     "output_type": "display_data"
    },
    {
     "data": {
      "text/html": [
       "<style>\n",
       ".dl-inline {width: auto; margin:0; padding: 0}\n",
       ".dl-inline>dt, .dl-inline>dd {float: none; width: auto; display: inline-block}\n",
       ".dl-inline>dt::after {content: \":\\0020\"; padding-right: .5ex}\n",
       ".dl-inline>dt:not(:first-of-type) {padding-left: .5ex}\n",
       "</style><dl class=dl-inline><dt>25%</dt><dd>3837386.35</dd><dt>50%</dt><dd>5328853.6</dd><dt>75%</dt><dd>7564919.75</dd></dl>\n"
      ],
      "text/latex": [
       "\\begin{description*}\n",
       "\\item[25\\textbackslash{}\\%] 3837386.35\n",
       "\\item[50\\textbackslash{}\\%] 5328853.6\n",
       "\\item[75\\textbackslash{}\\%] 7564919.75\n",
       "\\end{description*}\n"
      ],
      "text/markdown": [
       "25%\n",
       ":   3837386.3550%\n",
       ":   5328853.675%\n",
       ":   7564919.75\n",
       "\n"
      ],
      "text/plain": [
       "    25%     50%     75% \n",
       "3837386 5328854 7564920 "
      ]
     },
     "metadata": {},
     "output_type": "display_data"
    },
    {
     "name": "stdout",
     "output_type": "stream",
     "text": [
      "[1] SD= 3,021,674\n"
     ]
    },
    {
     "data": {
      "image/png": "[encoded data removed]",
      "text/plain": [
       "Plot with title “Histogram of sample_set4”"
      ]
     },
     "metadata": {
      "image/png": {
       "height": 420,
       "width": 420
      }
     },
     "output_type": "display_data"
    }
   ],
   "source": [
    "sample_set4 = replicate(10000, mean(sample(state_pops$Pop2010, size=5, replace=TRUE)), simplify=TRUE)\n",
    "print(paste(\"number of samples = \", length(sample_set4)), quote = FALSE)\n",
    "print(paste(\"avg of the sample set = \", format(round(mean(sample_set4), 0), big.mark = \",\")), quote = FALSE)\n",
    "hist(sample_set4)\n",
    "summary(sample_set4)\n",
    "quantile(sample_set4, probs = c(0.25, 0.5, 0.75))\n",
    "print(paste(\"SD=\", format(round(sd(sample_set4), 0), big.mark=\",\")), quote=FALSE)"
   ]
  },
  {
   "cell_type": "code",
   "execution_count": null,
   "id": "468f16ba",
   "metadata": {},
   "outputs": [],
   "source": []
  }
 ],
 "metadata": {
  "kernelspec": {
   "display_name": "R",
   "language": "R",
   "name": "ir"
  },
  "language_info": {
   "codemirror_mode": "r",
   "file_extension": ".r",
   "mimetype": "text/x-r-source",
   "name": "R",
   "pygments_lexer": "r",
   "version": "3.6.1"
  }
 },
 "nbformat": 4,
 "nbformat_minor": 5
}
